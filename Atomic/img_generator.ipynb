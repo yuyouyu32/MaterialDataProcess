{
 "cells": [
  {
   "cell_type": "code",
   "execution_count": 1,
   "metadata": {},
   "outputs": [
    {
     "name": "stderr",
     "output_type": "stream",
     "text": [
      "/var/folders/_w/46xx502d2pv6rnhtbh6gng_m0000gn/T/ipykernel_8777/943699575.py:4: TqdmExperimentalWarning: Using `tqdm.autonotebook.tqdm` in notebook mode. Use `tqdm.tqdm` instead to force console mode (e.g. in jupyter console)\n",
      "  from tqdm.autonotebook import tqdm\n"
     ]
    }
   ],
   "source": [
    "import pandas as pd\n",
    "from typing import List\n",
    "import numpy as np\n",
    "from tqdm.autonotebook import tqdm\n",
    "def read_temp(img_template_path: str) -> List[str]:\n",
    "    column_names = pd.read_excel(img_template_path).values.flatten()\n",
    "    return list(column_names)\n",
    "\n",
    "def transfet_img(imgs: pd.DataFrame, save_path: str, save_prename: str) -> None:\n",
    "    from PIL import Image\n",
    "    original_pics = imgs.values.reshape(-1, 1, 10, 10).astype(np.uint8)\n",
    "    for index, pic in enumerate(tqdm(original_pics)):\n",
    "        im = Image.fromarray(np.squeeze(pic.transpose(2,1,0)))\n",
    "        im.save(f'{save_path}/{save_prename}_{index}.png')\n",
    "def max_min_scaler(x): return (x - np.min(x)) / \\\n",
    "        (np.max(x) - np.min(x))"
   ]
  },
  {
   "cell_type": "code",
   "execution_count": 2,
   "metadata": {},
   "outputs": [],
   "source": [
    "original_94 = pd.read_csv('../负膨胀/original_94.csv')\n",
    "image = original_94.apply(max_min_scaler)\n",
    "def gray_scaler(x): return round(x * 255)\n",
    "image = image.apply(gray_scaler)\n",
    "image.fillna(0, inplace=True)\n",
    "image.replace(np.inf, 255, inplace=True)\n",
    "image.astype('float64')\n",
    "image['zeros'] = 0"
   ]
  },
  {
   "cell_type": "code",
   "execution_count": 3,
   "metadata": {},
   "outputs": [
    {
     "data": {
      "application/vnd.jupyter.widget-view+json": {
       "model_id": "7077f3036ac14ae0a86154090177dec9",
       "version_major": 2,
       "version_minor": 0
      },
      "text/plain": [
       "  0%|          | 0/132211 [00:00<?, ?it/s]"
      ]
     },
     "metadata": {},
     "output_type": "display_data"
    }
   ],
   "source": [
    "temp_1 = read_temp('./Image.xlsx')\n",
    "temP_1_data = image.reindex(columns=temp_1)\n",
    "transfet_img(temP_1_data, '../负膨胀/94_pics_1/', '1')"
   ]
  },
  {
   "cell_type": "code",
   "execution_count": 4,
   "metadata": {},
   "outputs": [
    {
     "data": {
      "application/vnd.jupyter.widget-view+json": {
       "model_id": "20b30c2f219948328d8aa57cad96ec87",
       "version_major": 2,
       "version_minor": 0
      },
      "text/plain": [
       "  0%|          | 0/132211 [00:00<?, ?it/s]"
      ]
     },
     "metadata": {},
     "output_type": "display_data"
    }
   ],
   "source": [
    "temp_2 = read_temp('./PICTURE.xlsx')\n",
    "temP_2_data = image.reindex(columns=temp_2)\n",
    "transfet_img(temP_2_data, '../负膨胀/94_pics_2/', '2')"
   ]
  }
 ],
 "metadata": {
  "kernelspec": {
   "display_name": "Python 3.8.10 64-bit ('3.8.10')",
   "language": "python",
   "name": "python3"
  },
  "language_info": {
   "codemirror_mode": {
    "name": "ipython",
    "version": 3
   },
   "file_extension": ".py",
   "mimetype": "text/x-python",
   "name": "python",
   "nbconvert_exporter": "python",
   "pygments_lexer": "ipython3",
   "version": "3.8.10"
  },
  "orig_nbformat": 4,
  "vscode": {
   "interpreter": {
    "hash": "60598a519b963e9f4a62b1d51c308354aa949236fc559ec0c5d4b908f592516f"
   }
  }
 },
 "nbformat": 4,
 "nbformat_minor": 2
}
